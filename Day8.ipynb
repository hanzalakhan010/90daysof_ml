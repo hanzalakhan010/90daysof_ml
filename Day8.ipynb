{
 "cells": [
  {
   "cell_type": "markdown",
   "metadata": {},
   "source": [
    "Todays Agenda\n",
    "    Implement Random Forest, AdaBoost, and Gradient Boosting on the same dataset.\n",
    "    Compare their performance using:\n",
    "        Accuracy\n",
    "        F1-score\n",
    "        Cross-validation scores\n",
    "    Experiment with hyperparameters:\n",
    "        Number of estimators(n_estimators)\n",
    "        Learning rate (for boosting)\n",
    "        Maximum depth (for base learners)(max_depth)\n",
    "        Visualize feature importance for Random Forest and Gradient Boosting."
   ]
  },
  {
   "cell_type": "code",
   "execution_count": 6,
   "metadata": {},
   "outputs": [],
   "source": [
    "#importing the required modules\n",
    "import pandas as pd \n",
    "from sklearn.datasets import load_iris,make_classification\n",
    "from sklearn.metrics import accuracy_score,f1_score,recall_score,precision_score\n",
    "from sklearn.model_selection import train_test_split\n",
    "from sklearn.ensemble import  RandomForestClassifier,AdaBoostClassifier,GradientBoostingClassifier\n"
   ]
  },
  {
   "cell_type": "code",
   "execution_count": 7,
   "metadata": {},
   "outputs": [],
   "source": [
    "#loading the data\n",
    "data = load_iris()\n",
    "#splitting the data\n",
    "X,y = data.data,data.target\n",
    "x_train,x_test,y_train,y_test = train_test_split(X,y,test_size=.5)\n"
   ]
  },
  {
   "cell_type": "code",
   "execution_count": 8,
   "metadata": {},
   "outputs": [
    {
     "name": "stdout",
     "output_type": "stream",
     "text": [
      "Accuracy Score:0.8933333333333333\n",
      "F1 Score:0.8928592592592591\n",
      "Precision Score:0.9083636363636364\n",
      "Recall Score:0.8933333333333333\n"
     ]
    }
   ],
   "source": [
    "# Creating RandomForestClassifier model \n",
    "rf_model = RandomForestClassifier(n_estimators=100,random_state=42)\n",
    "rf_model.fit(x_train,y_train)\n",
    "y_pred = rf_model.predict(x_test)\n",
    "#calculating performance metrices\n",
    "print(f'Accuracy Score:{accuracy_score(y_pred,y_test)}')\n",
    "print(f'F1 Score:{f1_score(y_pred,y_test,average=\"weighted\")}')\n",
    "print(f'Precision Score:{precision_score(y_pred,y_test,average=\"weighted\")}')\n",
    "print(f'Recall Score:{recall_score(y_pred,y_test,average=\"weighted\")}')"
   ]
  },
  {
   "cell_type": "code",
   "execution_count": 9,
   "metadata": {},
   "outputs": [
    {
     "name": "stdout",
     "output_type": "stream",
     "text": [
      "Accuracy Score:0.8933333333333333\n",
      "F1 Score:0.8928592592592591\n",
      "Precision Score:0.9083636363636364\n",
      "Recall Score:0.8933333333333333\n"
     ]
    }
   ],
   "source": [
    "# Creating AdaBoostClassifier model \n",
    "ab_model = AdaBoostClassifier(n_estimators=100,random_state=42)\n",
    "ab_model.fit(x_train,y_train)\n",
    "y_pred = ab_model.predict(x_test)\n",
    "#calculating performance metrices\n",
    "print(f'Accuracy Score:{accuracy_score(y_pred,y_test)}')\n",
    "print(f'F1 Score:{f1_score(y_pred,y_test,average=\"weighted\")}')\n",
    "print(f'Precision Score:{precision_score(y_pred,y_test,average=\"weighted\")}')\n",
    "print(f'Recall Score:{recall_score(y_pred,y_test,average=\"weighted\")}')"
   ]
  },
  {
   "cell_type": "code",
   "execution_count": 10,
   "metadata": {},
   "outputs": [
    {
     "name": "stdout",
     "output_type": "stream",
     "text": [
      "Accuracy Score:0.9066666666666666\n",
      "F1 Score:0.906147186147186\n",
      "Precision Score:0.9169696969696971\n",
      "Recall Score:0.9066666666666666\n"
     ]
    }
   ],
   "source": [
    "# Creating GradientBoostingClassifier model \n",
    "gb_model = GradientBoostingClassifier(n_estimators=100,random_state=42)\n",
    "gb_model.fit(x_train,y_train)\n",
    "y_pred = gb_model.predict(x_test)\n",
    "#calculating performance metrices\n",
    "print(f'Accuracy Score:{accuracy_score(y_pred,y_test)}')\n",
    "print(f'F1 Score:{f1_score(y_pred,y_test,average=\"weighted\")}')\n",
    "print(f'Precision Score:{precision_score(y_pred,y_test,average=\"weighted\")}')\n",
    "print(f'Recall Score:{recall_score(y_pred,y_test,average=\"weighted\")}')"
   ]
  },
  {
   "cell_type": "code",
   "execution_count": 11,
   "metadata": {},
   "outputs": [],
   "source": [
    "# creating my own imbalanaced dataset to evaluate the performance of each model because above model show\n",
    "# too similar performance metrices of each model\n",
    "X,y = make_classification(\n",
    "    n_samples=10000,       # Total samples\n",
    "    n_features=20,        # Number of features\n",
    "    n_informative=2,      # Number of informative features\n",
    "    n_redundant=10,       # Number of redundant features\n",
    "    n_clusters_per_class=1,\n",
    "    weights=[0.9, 0.1],   # Class imbalance (90% class 0, 10% class 1)\n",
    "    flip_y=0,             # No label noise\n",
    "    random_state=42\n",
    ")\n",
    "\n",
    "x_train,x_test,y_train,y_test = train_test_split(X,y,test_size=.2)\n"
   ]
  },
  {
   "cell_type": "code",
   "execution_count": 12,
   "metadata": {},
   "outputs": [
    {
     "name": "stdout",
     "output_type": "stream",
     "text": [
      "Accuracy Score:0.996\n",
      "F1 Score:0.9960089397570864\n",
      "Precision Score:0.9960233333333333\n",
      "Recall Score:0.996\n"
     ]
    }
   ],
   "source": [
    "# Creating RandomForestClassifier model \n",
    "rf_model = RandomForestClassifier(n_estimators=100,random_state=42)\n",
    "rf_model.fit(x_train,y_train)\n",
    "y_pred = rf_model.predict(x_test)\n",
    "#calculating performance metrices\n",
    "print(f'Accuracy Score:{accuracy_score(y_pred,y_test)}')\n",
    "print(f'F1 Score:{f1_score(y_pred,y_test,average=\"weighted\")}')\n",
    "print(f'Precision Score:{precision_score(y_pred,y_test,average=\"weighted\")}')\n",
    "print(f'Recall Score:{recall_score(y_pred,y_test,average=\"weighted\")}')"
   ]
  },
  {
   "cell_type": "code",
   "execution_count": 13,
   "metadata": {},
   "outputs": [
    {
     "name": "stdout",
     "output_type": "stream",
     "text": [
      "Accuracy Score:0.994\n",
      "F1 Score:0.9940545726050952\n",
      "Precision Score:0.9941955555555555\n",
      "Recall Score:0.994\n"
     ]
    }
   ],
   "source": [
    "# Creating AdaBoostClassifier model \n",
    "ab_model = AdaBoostClassifier(n_estimators=100,random_state=42)\n",
    "ab_model.fit(x_train,y_train)\n",
    "y_pred = ab_model.predict(x_test)\n",
    "#calculating performance metrices\n",
    "print(f'Accuracy Score:{accuracy_score(y_pred,y_test)}')\n",
    "print(f'F1 Score:{f1_score(y_pred,y_test,average=\"weighted\")}')\n",
    "print(f'Precision Score:{precision_score(y_pred,y_test,average=\"weighted\")}')\n",
    "print(f'Recall Score:{recall_score(y_pred,y_test,average=\"weighted\")}')"
   ]
  },
  {
   "cell_type": "code",
   "execution_count": 14,
   "metadata": {},
   "outputs": [
    {
     "name": "stdout",
     "output_type": "stream",
     "text": [
      "Accuracy Score:0.995\n",
      "F1 Score:0.9950454771709127\n",
      "Precision Score:0.9951777777777778\n",
      "Recall Score:0.995\n"
     ]
    }
   ],
   "source": [
    "# Creating GradientBoostingClassifier model \n",
    "gb_model = GradientBoostingClassifier(n_estimators=100,random_state=42)\n",
    "gb_model.fit(x_train,y_train)\n",
    "y_pred = gb_model.predict(x_test)\n",
    "#calculating performance metrices\n",
    "print(f'Accuracy Score:{accuracy_score(y_pred,y_test)}')\n",
    "print(f'F1 Score:{f1_score(y_pred,y_test,average=\"weighted\")}')\n",
    "print(f'Precision Score:{precision_score(y_pred,y_test,average=\"weighted\")}')\n",
    "print(f'Recall Score:{recall_score(y_pred,y_test,average=\"weighted\")}')"
   ]
  }
 ],
 "metadata": {
  "kernelspec": {
   "display_name": "env",
   "language": "python",
   "name": "python3"
  },
  "language_info": {
   "codemirror_mode": {
    "name": "ipython",
    "version": 3
   },
   "file_extension": ".py",
   "mimetype": "text/x-python",
   "name": "python",
   "nbconvert_exporter": "python",
   "pygments_lexer": "ipython3",
   "version": "3.11.2"
  }
 },
 "nbformat": 4,
 "nbformat_minor": 2
}
