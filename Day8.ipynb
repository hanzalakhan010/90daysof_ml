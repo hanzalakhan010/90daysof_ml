{
 "cells": [
  {
   "cell_type": "markdown",
   "metadata": {},
   "source": [
    "Todays Agenda\n",
    "    Implement Random Forest, AdaBoost, and Gradient Boosting on the same dataset.\n",
    "    Compare their performance using:\n",
    "        Accuracy\n",
    "        F1-score\n",
    "        Cross-validation scores\n",
    "    Experiment with hyperparameters:\n",
    "        Number of estimators(n_estimators)\n",
    "        Learning rate (for boosting)\n",
    "        Maximum depth (for base learners)(max_depth)\n",
    "        Visualize feature importance for Random Forest and Gradient Boosting."
   ]
  },
  {
   "cell_type": "code",
   "execution_count": 48,
   "metadata": {},
   "outputs": [],
   "source": [
    "#importing the required modules\n",
    "import pandas as pd \n",
    "from sklearn.datasets import load_iris\n",
    "from sklearn.metrics import accuracy_score,f1_score,recall_score,precision_score\n",
    "from sklearn.model_selection import train_test_split\n",
    "from sklearn.ensemble import  RandomForestClassifier,AdaBoostClassifier,GradientBoostingClassifier"
   ]
  },
  {
   "cell_type": "code",
   "execution_count": 49,
   "metadata": {},
   "outputs": [],
   "source": [
    "#loading the data\n",
    "data = load_iris()\n",
    "#splitting the data\n",
    "X,y = data.data,data.target\n",
    "x_train,x_test,y_train,y_test = train_test_split(X,y,test_size=.5)\n"
   ]
  },
  {
   "cell_type": "code",
   "execution_count": 50,
   "metadata": {},
   "outputs": [
    {
     "name": "stdout",
     "output_type": "stream",
     "text": [
      "Accuracy Score:0.9466666666666667\n",
      "F1 Score:0.9466666666666667\n",
      "Precision Score:0.9466666666666667\n",
      "Recall Score:0.9466666666666667\n"
     ]
    }
   ],
   "source": [
    "# Creating RandomForestClassifier model \n",
    "rf_model = RandomForestClassifier(n_estimators=100,random_state=42)\n",
    "rf_model.fit(x_train,y_train)\n",
    "y_pred = rf_model.predict(x_test)\n",
    "#calculating performance metrices\n",
    "print(f'Accuracy Score:{accuracy_score(y_pred,y_test)}')\n",
    "print(f'F1 Score:{f1_score(y_pred,y_test,average=\"weighted\")}')\n",
    "print(f'Precision Score:{precision_score(y_pred,y_test,average=\"weighted\")}')\n",
    "print(f'Recall Score:{recall_score(y_pred,y_test,average=\"weighted\")}')"
   ]
  },
  {
   "cell_type": "code",
   "execution_count": 51,
   "metadata": {},
   "outputs": [
    {
     "name": "stdout",
     "output_type": "stream",
     "text": [
      "Accuracy Score:0.92\n",
      "F1 Score:0.92\n",
      "Precision Score:0.9219478260869566\n",
      "Recall Score:0.92\n"
     ]
    }
   ],
   "source": [
    "# Creating AdaBoostClassifier model \n",
    "ab_model = AdaBoostClassifier(n_estimators=100,random_state=42)\n",
    "ab_model.fit(x_train,y_train)\n",
    "y_pred = ab_model.predict(x_test)\n",
    "#calculating performance metrices\n",
    "print(f'Accuracy Score:{accuracy_score(y_pred,y_test)}')\n",
    "print(f'F1 Score:{f1_score(y_pred,y_test,average=\"weighted\")}')\n",
    "print(f'Precision Score:{precision_score(y_pred,y_test,average=\"weighted\")}')\n",
    "print(f'Recall Score:{recall_score(y_pred,y_test,average=\"weighted\")}')"
   ]
  },
  {
   "cell_type": "code",
   "execution_count": 52,
   "metadata": {},
   "outputs": [
    {
     "name": "stdout",
     "output_type": "stream",
     "text": [
      "Accuracy Score:0.9333333333333333\n",
      "F1 Score:0.9334201765812707\n",
      "Precision Score:0.9379942028985507\n",
      "Recall Score:0.9333333333333333\n"
     ]
    }
   ],
   "source": [
    "# Creating GradientBoostingClassifier model \n",
    "gb_model = GradientBoostingClassifier(n_estimators=100,random_state=42)\n",
    "gb_model.fit(x_train,y_train)\n",
    "y_pred = gb_model.predict(x_test)\n",
    "#calculating performance metrices\n",
    "print(f'Accuracy Score:{accuracy_score(y_pred,y_test)}')\n",
    "print(f'F1 Score:{f1_score(y_pred,y_test,average=\"weighted\")}')\n",
    "print(f'Precision Score:{precision_score(y_pred,y_test,average=\"weighted\")}')\n",
    "print(f'Recall Score:{recall_score(y_pred,y_test,average=\"weighted\")}')"
   ]
  }
 ],
 "metadata": {
  "kernelspec": {
   "display_name": "env",
   "language": "python",
   "name": "python3"
  },
  "language_info": {
   "codemirror_mode": {
    "name": "ipython",
    "version": 3
   },
   "file_extension": ".py",
   "mimetype": "text/x-python",
   "name": "python",
   "nbconvert_exporter": "python",
   "pygments_lexer": "ipython3",
   "version": "3.11.2"
  }
 },
 "nbformat": 4,
 "nbformat_minor": 2
}
