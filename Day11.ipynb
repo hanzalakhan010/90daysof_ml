{
 "cells": [
  {
   "cell_type": "markdown",
   "metadata": {},
   "source": [
    "Today's Agenda\n",
    "\n",
    "    credit card fraud detection model with random forests and gradient boosting classifier\n",
    "    visualistaion of feature importance\n",
    "    compare each performance model \n",
    "    "
   ]
  },
  {
   "cell_type": "code",
   "execution_count": 25,
   "metadata": {},
   "outputs": [],
   "source": [
    "import pandas as pd\n",
    "from sklearn.ensemble import RandomForestClassifier,GradientBoostingClassifier\n",
    "from sklearn.tree import  DecisionTreeClassifier\n",
    "from sklearn.model_selection import train_test_split\n",
    "from sklearn.metrics import accuracy_score,f1_score,roc_auc_score"
   ]
  },
  {
   "cell_type": "code",
   "execution_count": 26,
   "metadata": {},
   "outputs": [
    {
     "data": {
      "text/plain": [
       "(284801, 31)"
      ]
     },
     "execution_count": 26,
     "metadata": {},
     "output_type": "execute_result"
    }
   ],
   "source": [
    "df = pd.read_csv('./datasets/creditcard.csv')\n",
    "df = df.loc[0:284800]\n",
    "# df.head()\n",
    "df.shape"
   ]
  },
  {
   "cell_type": "code",
   "execution_count": 27,
   "metadata": {},
   "outputs": [
    {
     "data": {
      "text/plain": [
       "Time      0\n",
       "V1        0\n",
       "V2        0\n",
       "V3        0\n",
       "V4        0\n",
       "V5        0\n",
       "V6        0\n",
       "V7        0\n",
       "V8        0\n",
       "V9        0\n",
       "V10       0\n",
       "V11       0\n",
       "V12       0\n",
       "V13       0\n",
       "V14       0\n",
       "V15       0\n",
       "V16       0\n",
       "V17       0\n",
       "V18       0\n",
       "V19       0\n",
       "V20       0\n",
       "V21       0\n",
       "V22       0\n",
       "V23       0\n",
       "V24       0\n",
       "V25       0\n",
       "V26       0\n",
       "V27       0\n",
       "V28       0\n",
       "Amount    0\n",
       "Class     0\n",
       "dtype: int64"
      ]
     },
     "execution_count": 27,
     "metadata": {},
     "output_type": "execute_result"
    }
   ],
   "source": [
    "#checking null values\n",
    "#No null values\n",
    "df.isnull().sum()"
   ]
  },
  {
   "cell_type": "code",
   "execution_count": 28,
   "metadata": {},
   "outputs": [
    {
     "data": {
      "text/plain": [
       "Class\n",
       "0    284309\n",
       "1       492\n",
       "Name: count, dtype: int64"
      ]
     },
     "execution_count": 28,
     "metadata": {},
     "output_type": "execute_result"
    }
   ],
   "source": [
    "#distribution of legit transaction\n",
    "df['Class'].value_counts()\n",
    "# imbalanced dataset"
   ]
  },
  {
   "cell_type": "code",
   "execution_count": 29,
   "metadata": {},
   "outputs": [],
   "source": [
    "#splitting dataset\n",
    "X = df.drop(columns=['Class'])\n",
    "y = df['Class']\n",
    "x_train,x_test,y_train,y_test = train_test_split(X,y,test_size=0.2,random_state=42)\n"
   ]
  },
  {
   "cell_type": "code",
   "execution_count": 30,
   "metadata": {},
   "outputs": [],
   "source": [
    "#trianing of model took 6 minutes!\n",
    "rf_model = RandomForestClassifier(n_estimators=100,random_state=42)\n",
    "rf_model.fit(x_train,y_train)\n",
    "y_pred  = rf_model.predict(x_test)\n",
    "\n",
    "\n",
    "\n",
    "rf_model_accuracy = accuracy_score(y_pred,y_test)\n",
    "# rf_model_recall_score = recall_score(y_pred,y_test)\n",
    "# rf_model_precision_score = precision_score(y_pred,y_test)\n",
    "rf_model_f1_score = f1_score(y_pred,y_test,average='weighted')\n",
    "rf_model_rc_auc_score = roc_auc_score(y_pred,y_test)\n",
    "\n"
   ]
  },
  {
   "cell_type": "code",
   "execution_count": 31,
   "metadata": {},
   "outputs": [],
   "source": [
    "gB_model = GradientBoostingClassifier(n_estimators=100,random_state=42)\n",
    "gB_model.fit(x_train,y_train)\n",
    "y_pred  =gB_model.predict(x_test)\n",
    "\n",
    "\n",
    "gB_model_accuracy = accuracy_score(y_pred,y_test)\n",
    "#gB_model_recall_score = recall_score(y_pred,y_test)\n",
    "#gB_model_precision_score = precision_score(y_pred,y_test)\n",
    "gB_model_f1_score = f1_score(y_pred,y_test,average='weighted')\n",
    "gB_model_rc_auc_score = roc_auc_score(y_pred,y_test)\n"
   ]
  },
  {
   "cell_type": "code",
   "execution_count": 32,
   "metadata": {},
   "outputs": [
    {
     "name": "stdout",
     "output_type": "stream",
     "text": [
      "\n",
      "Performnce Report\n",
      "- Random Forest\n",
      "    - Accuracy : 1.000\n",
      "    - F1 Score : 1.000\n",
      "    - ROC AUC Score : 0.957\n",
      "    \n",
      "-Gradient Boosting\n",
      "    - Accuracy : 0.998\n",
      "    - F1 Score : 0.999\n",
      "    - ROC AUC Score : 0.767\n",
      "    \n",
      "\n"
     ]
    }
   ],
   "source": [
    "#report\n",
    "print(f\"\"\"\n",
    "Performnce Report\n",
    "- Random Forest\n",
    "    - Accuracy : {rf_model_accuracy:.3f}\n",
    "    - F1 Score : {rf_model_f1_score:.3f}\n",
    "    - ROC AUC Score : {rf_model_rc_auc_score:.3f}\n",
    "    \n",
    "-Gradient Boosting\n",
    "    - Accuracy : {gB_model_accuracy:.3f}\n",
    "    - F1 Score : {gB_model_f1_score:.3f}\n",
    "    - ROC AUC Score : {gB_model_rc_auc_score:.3f}\n",
    "    \n",
    "\"\"\")"
   ]
  }
 ],
 "metadata": {
  "kernelspec": {
   "display_name": "env",
   "language": "python",
   "name": "python3"
  },
  "language_info": {
   "codemirror_mode": {
    "name": "ipython",
    "version": 3
   },
   "file_extension": ".py",
   "mimetype": "text/x-python",
   "name": "python",
   "nbconvert_exporter": "python",
   "pygments_lexer": "ipython3",
   "version": "3.11.2"
  }
 },
 "nbformat": 4,
 "nbformat_minor": 2
}
