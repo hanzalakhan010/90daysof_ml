{
 "cells": [
  {
   "cell_type": "markdown",
   "metadata": {},
   "source": [
    "Agenda\n",
    "\n",
    "    Understand the theory and applications of bagging, boosting, and stacking.\n",
    "    Implement ensemble learning techniques using scikit-learn, XGBoost, and LightGBM.\n",
    "    Evaluate and compare ensemble models with baseline models.\n",
    "    Interpret feature importance in ensemble models.\n",
    "\n",
    "\n",
    "Training of model on heart disease dataset"
   ]
  },
  {
   "cell_type": "code",
   "execution_count": 8,
   "metadata": {},
   "outputs": [],
   "source": [
    "import pandas as pd\n",
    "from sklearn.tree import DecisionTreeClassifier\n",
    "from sklearn.model_selection import train_test_split\n",
    "from sklearn.ensemble import BaggingClassifier,RandomForestClassifier,GradientBoostingClassifier,AdaBoostClassifier,StackingClassifier\n",
    "from sklearn.linear_model import LogisticRegression\n",
    "from sklearn.metrics import accuracy_score,f1_score\n",
    "from sklearn.model_selection import cross_val_score\n"
   ]
  },
  {
   "cell_type": "code",
   "execution_count": 2,
   "metadata": {},
   "outputs": [
    {
     "data": {
      "text/html": [
       "<div>\n",
       "<style scoped>\n",
       "    .dataframe tbody tr th:only-of-type {\n",
       "        vertical-align: middle;\n",
       "    }\n",
       "\n",
       "    .dataframe tbody tr th {\n",
       "        vertical-align: top;\n",
       "    }\n",
       "\n",
       "    .dataframe thead th {\n",
       "        text-align: right;\n",
       "    }\n",
       "</style>\n",
       "<table border=\"1\" class=\"dataframe\">\n",
       "  <thead>\n",
       "    <tr style=\"text-align: right;\">\n",
       "      <th></th>\n",
       "      <th>age</th>\n",
       "      <th>sex</th>\n",
       "      <th>cp</th>\n",
       "      <th>trestbps</th>\n",
       "      <th>chol</th>\n",
       "      <th>fbs</th>\n",
       "      <th>restecg</th>\n",
       "      <th>thalach</th>\n",
       "      <th>exang</th>\n",
       "      <th>oldpeak</th>\n",
       "      <th>slope</th>\n",
       "      <th>ca</th>\n",
       "      <th>thal</th>\n",
       "      <th>target</th>\n",
       "    </tr>\n",
       "  </thead>\n",
       "  <tbody>\n",
       "    <tr>\n",
       "      <th>0</th>\n",
       "      <td>52</td>\n",
       "      <td>1</td>\n",
       "      <td>0</td>\n",
       "      <td>125</td>\n",
       "      <td>212</td>\n",
       "      <td>0</td>\n",
       "      <td>1</td>\n",
       "      <td>168</td>\n",
       "      <td>0</td>\n",
       "      <td>1.0</td>\n",
       "      <td>2</td>\n",
       "      <td>2</td>\n",
       "      <td>3</td>\n",
       "      <td>0</td>\n",
       "    </tr>\n",
       "    <tr>\n",
       "      <th>1</th>\n",
       "      <td>53</td>\n",
       "      <td>1</td>\n",
       "      <td>0</td>\n",
       "      <td>140</td>\n",
       "      <td>203</td>\n",
       "      <td>1</td>\n",
       "      <td>0</td>\n",
       "      <td>155</td>\n",
       "      <td>1</td>\n",
       "      <td>3.1</td>\n",
       "      <td>0</td>\n",
       "      <td>0</td>\n",
       "      <td>3</td>\n",
       "      <td>0</td>\n",
       "    </tr>\n",
       "    <tr>\n",
       "      <th>2</th>\n",
       "      <td>70</td>\n",
       "      <td>1</td>\n",
       "      <td>0</td>\n",
       "      <td>145</td>\n",
       "      <td>174</td>\n",
       "      <td>0</td>\n",
       "      <td>1</td>\n",
       "      <td>125</td>\n",
       "      <td>1</td>\n",
       "      <td>2.6</td>\n",
       "      <td>0</td>\n",
       "      <td>0</td>\n",
       "      <td>3</td>\n",
       "      <td>0</td>\n",
       "    </tr>\n",
       "    <tr>\n",
       "      <th>3</th>\n",
       "      <td>61</td>\n",
       "      <td>1</td>\n",
       "      <td>0</td>\n",
       "      <td>148</td>\n",
       "      <td>203</td>\n",
       "      <td>0</td>\n",
       "      <td>1</td>\n",
       "      <td>161</td>\n",
       "      <td>0</td>\n",
       "      <td>0.0</td>\n",
       "      <td>2</td>\n",
       "      <td>1</td>\n",
       "      <td>3</td>\n",
       "      <td>0</td>\n",
       "    </tr>\n",
       "    <tr>\n",
       "      <th>4</th>\n",
       "      <td>62</td>\n",
       "      <td>0</td>\n",
       "      <td>0</td>\n",
       "      <td>138</td>\n",
       "      <td>294</td>\n",
       "      <td>1</td>\n",
       "      <td>1</td>\n",
       "      <td>106</td>\n",
       "      <td>0</td>\n",
       "      <td>1.9</td>\n",
       "      <td>1</td>\n",
       "      <td>3</td>\n",
       "      <td>2</td>\n",
       "      <td>0</td>\n",
       "    </tr>\n",
       "  </tbody>\n",
       "</table>\n",
       "</div>"
      ],
      "text/plain": [
       "   age  sex  cp  trestbps  chol  fbs  restecg  thalach  exang  oldpeak  slope  \\\n",
       "0   52    1   0       125   212    0        1      168      0      1.0      2   \n",
       "1   53    1   0       140   203    1        0      155      1      3.1      0   \n",
       "2   70    1   0       145   174    0        1      125      1      2.6      0   \n",
       "3   61    1   0       148   203    0        1      161      0      0.0      2   \n",
       "4   62    0   0       138   294    1        1      106      0      1.9      1   \n",
       "\n",
       "   ca  thal  target  \n",
       "0   2     3       0  \n",
       "1   0     3       0  \n",
       "2   0     3       0  \n",
       "3   1     3       0  \n",
       "4   3     2       0  "
      ]
     },
     "execution_count": 2,
     "metadata": {},
     "output_type": "execute_result"
    }
   ],
   "source": [
    "df = pd.read_csv('./datasets/heart.csv')\n",
    "df.head()"
   ]
  },
  {
   "cell_type": "code",
   "execution_count": 3,
   "metadata": {},
   "outputs": [
    {
     "data": {
      "text/plain": [
       "age         0\n",
       "sex         0\n",
       "cp          0\n",
       "trestbps    0\n",
       "chol        0\n",
       "fbs         0\n",
       "restecg     0\n",
       "thalach     0\n",
       "exang       0\n",
       "oldpeak     0\n",
       "slope       0\n",
       "ca          0\n",
       "thal        0\n",
       "target      0\n",
       "dtype: int64"
      ]
     },
     "execution_count": 3,
     "metadata": {},
     "output_type": "execute_result"
    }
   ],
   "source": [
    "df.isnull().sum()"
   ]
  },
  {
   "cell_type": "code",
   "execution_count": 4,
   "metadata": {},
   "outputs": [],
   "source": [
    "X = df.drop(columns= ['target'])\n",
    "y = df['target']\n",
    "\n",
    "x_train,x_test,y_train,y_test = train_test_split(X,y,test_size=.2,random_state=42)"
   ]
  },
  {
   "cell_type": "markdown",
   "metadata": {},
   "source": [
    "Bagging\n",
    "Popular methods: Random Forest, Bagging Classifier.\n",
    "Key idea: Train models in parallel using bootstrap sampling.\n",
    "Goal: Reduce overfitting by averaging predictions."
   ]
  },
  {
   "cell_type": "code",
   "execution_count": 5,
   "metadata": {},
   "outputs": [
    {
     "name": "stdout",
     "output_type": "stream",
     "text": [
      "Accuracy Score : 0.9853658536585366\n",
      "Accuracy Score : 0.9853658536585366\n"
     ]
    }
   ],
   "source": [
    "#trainig BaggingClassifier with decision tree\n",
    "bagging_model = BaggingClassifier(\n",
    "    estimator=DecisionTreeClassifier(),\n",
    "    n_estimators = 100,\n",
    "    random_state =42\n",
    "    )\n",
    "bagging_model.fit(x_train,y_train)\n",
    "\n",
    "y_pred = bagging_model.predict(x_test)\n",
    "\n",
    "bagging_model_accurary = accuracy_score(y_pred,y_test)\n",
    "print(f'Accuracy Score : {bagging_model_accurary}')\n",
    "\n",
    "bagging_model = BaggingClassifier(\n",
    "    estimator=RandomForestClassifier(),\n",
    "    n_estimators = 100,\n",
    "    random_state =42\n",
    "    )\n",
    "bagging_model.fit(x_train,y_train)\n",
    "\n",
    "y_pred = bagging_model.predict(x_test)\n",
    "\n",
    "bagging_model_accurary = accuracy_score(y_pred,y_test)\n",
    "print(f'Accuracy Score : {bagging_model_accurary}')\n"
   ]
  },
  {
   "cell_type": "markdown",
   "metadata": {},
   "source": [
    "Boosting\n",
    "Popular methods: Gradient Boosting, AdaBoost, XGBoost, LightGBM, CatBoost.\n",
    "Key idea: Train models sequentially, correcting errors made by previous models.\n",
    "Goal: Achieve higher accuracy by focusing on hard-to-predict instances.\n"
   ]
  },
  {
   "cell_type": "code",
   "execution_count": 6,
   "metadata": {},
   "outputs": [
    {
     "name": "stdout",
     "output_type": "stream",
     "text": [
      "Gradient Boosting Model Accuracy: 0.9317073170731708\n",
      "Gradient Boosting Model F1 Score: 0.9333333333333333\n",
      "Ada Boost Model Accuracy: 0.9853658536585366\n",
      "Ada Boost Model F1 Score: 0.9852216748768473\n"
     ]
    }
   ],
   "source": [
    "# Training GradientBosting ,XGBoost,AdaBoost and lightBGM Classifier and evaluation their perfomance metrics\n",
    "gb_model = GradientBoostingClassifier(\n",
    "    n_estimators = 100,\n",
    "    learning_rate = .1,\n",
    "    random_state = 42)\n",
    "\n",
    "gb_model.fit(x_train,y_train)\n",
    "y_pred = gb_model.predict(x_test)\n",
    "\n",
    "gb_model_accuracy = accuracy_score(y_pred,y_test)\n",
    "gb_model_f1_score = f1_score(y_pred,y_test)\n",
    "\n",
    "print(f'Gradient Boosting Model Accuracy: {gb_model_accuracy}')\n",
    "print(f'Gradient Boosting Model F1 Score: {gb_model_f1_score}')\n",
    "\n",
    "adaBoost_model = AdaBoostClassifier(\n",
    "    estimator = RandomForestClassifier(max_depth=10),\n",
    "    n_estimators = 50 ,\n",
    "    learning_rate = .1,\n",
    "    random_state = 42\n",
    ")\n",
    "\n",
    "\n",
    "adaBoost_model.fit(x_train,y_train)\n",
    "\n",
    "y_pred = adaBoost_model.predict(x_test)\n",
    "\n",
    "adaBoost_model_accuracy = accuracy_score(y_pred,y_test)\n",
    "adaBoost_model_f1_score = f1_score(y_pred,y_test)\n",
    "\n",
    "\n",
    "print(f'Ada Boost Model Accuracy: {adaBoost_model_accuracy}')\n",
    "print(f'Ada Boost Model F1 Score: {adaBoost_model_f1_score}')\n",
    "\n",
    "\n",
    "\n"
   ]
  },
  {
   "cell_type": "code",
   "execution_count": 14,
   "metadata": {},
   "outputs": [
    {
     "name": "stdout",
     "output_type": "stream",
     "text": [
      "Stacking Model Accuracy : 0.9853658536585366\n",
      "Stacking Model F1 Score : 0.9852216748768473\n",
      "Cross Validation Scores : [1.         0.98795181 0.97674419 0.97619048 0.98823529 1.\n",
      " 0.98823529 0.98850575 0.96385542 1.        ]\n",
      "Cross Validation Scores : [1.         0.98780488 1.         0.96341463 1.         0.98780488\n",
      " 0.98780488 0.97560976 0.96341463 1.        ]\n"
     ]
    }
   ],
   "source": [
    "stacking_model = StackingClassifier(\n",
    "    estimators = [\n",
    "        ('rf',RandomForestClassifier()),\n",
    "        ('dt',DecisionTreeClassifier(max_depth=2,random_state=42))\n",
    "    ],\n",
    "    final_estimator = GradientBoostingClassifier(n_estimators=100,random_state=42)\n",
    ")\n",
    "stacking_model.fit(x_train,y_train)\n",
    "y_pred = stacking_model.predict(x_test)\n",
    "\n",
    "stacking_model_accuracy = accuracy_score(y_pred,y_test)\n",
    "stacking_model_f1_score = f1_score(y_pred,y_test)\n",
    "\n",
    "print(f'Stacking Model Accuracy : {stacking_model_accuracy}')\n",
    "print(f'Stacking Model F1 Score : {stacking_model_f1_score}')\n",
    "\n",
    "scores = cross_val_score(stacking_model,x_train,y_train,cv=10 ,scoring = 'f1')\n",
    "print(f'Cross Validation Scores : {scores}')\n",
    "\n",
    "scores = cross_val_score(stacking_model,x_train,y_train,cv=10 ,scoring = 'accuracy')\n",
    "print(f'Cross Validation Scores : {scores}')"
   ]
  }
 ],
 "metadata": {
  "kernelspec": {
   "display_name": "env",
   "language": "python",
   "name": "python3"
  },
  "language_info": {
   "codemirror_mode": {
    "name": "ipython",
    "version": 3
   },
   "file_extension": ".py",
   "mimetype": "text/x-python",
   "name": "python",
   "nbconvert_exporter": "python",
   "pygments_lexer": "ipython3",
   "version": "3.11.2"
  }
 },
 "nbformat": 4,
 "nbformat_minor": 2
}
