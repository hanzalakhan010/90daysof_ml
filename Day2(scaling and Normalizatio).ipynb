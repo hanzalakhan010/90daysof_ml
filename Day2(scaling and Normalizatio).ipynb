{
 "cells": [
  {
   "cell_type": "code",
   "execution_count": null,
   "metadata": {},
   "outputs": [],
   "source": [
    "# modules we'll use\n",
    "import pandas as pd\n",
    "import numpy as np\n",
    "\n",
    "# for Box-Cox Transformation\n",
    "from scipy import stats\n",
    "\n",
    "# for min_max scaling\n",
    "from mlxtend.preprocessing import minmax_scaling\n",
    "\n",
    "# plotting modules\n",
    "import seaborn as sns\n",
    "import matplotlib.pyplot as plt\n",
    "\n",
    "# read in all our data\n",
    "#for practice 1\n",
    "# kickstarters_2017 = pd.read_csv(\"./datasets/ks-projects-201801.csv\")\n",
    "# For practice two\n",
    "weather = pd.read_csv('./datasets/weatherHistory.csv')\n",
    "\n",
    "# set seed for reproducibility\n",
    "np.random.seed(0)"
   ]
  },
  {
   "cell_type": "code",
   "execution_count": null,
   "metadata": {},
   "outputs": [],
   "source": [
    "kickstarters_2017.head()"
   ]
  },
  {
   "cell_type": "code",
   "execution_count": null,
   "metadata": {},
   "outputs": [],
   "source": [
    "index_of_pledged = kickstarters_2017.pledged > 0\n",
    "positive_pledges = kickstarters_2017.pledged.loc[index_of_pledged]\n",
    "# positive_pledges\n",
    "normalized_pledges = pd.Series(stats.boxcox(positive_pledges)[0],name = 'realPledges',index=positive_pledges.index)\n",
    "# np.mean(normalized_pledges)\n",
    "ax = sns.histplot(normalized_pledges,kde = True)\n",
    "ax.set_title('Normalized Data')\n",
    "# plt.show()"
   ]
  },
  {
   "cell_type": "code",
   "execution_count": null,
   "metadata": {},
   "outputs": [],
   "source": [
    "original_visibilty_data = pd.DataFrame(weather['Visibility (km)'])\n",
    "scaled_data = minmax_scaling(oroginal_visibilty_data,columns=['Visibility (km)'])\n",
    "scaled_data"
   ]
  },
  {
   "cell_type": "code",
   "execution_count": 81,
   "metadata": {},
   "outputs": [
    {
     "ename": "ValueError",
     "evalue": "Multi-dimensional indexing (e.g. `obj[:, None]`) is no longer supported. Convert to a numpy array before indexing instead.",
     "output_type": "error",
     "traceback": [
      "\u001b[0;31m---------------------------------------------------------------------------\u001b[0m",
      "\u001b[0;31mValueError\u001b[0m                                Traceback (most recent call last)",
      "\u001b[1;32m/media/hanzalak/Hanzala/Projects/90daysof_ml/Day2(scaling and Normalizatio).ipynb Cell 5\u001b[0m line \u001b[0;36m1\n\u001b[1;32m     <a href='vscode-notebook-cell:/media/hanzalak/Hanzala/Projects/90daysof_ml/Day2%28scaling%20and%20Normalizatio%29.ipynb#W5sZmlsZQ%3D%3D?line=10'>11</a>\u001b[0m normalized_humidity \u001b[39m=\u001b[39m pd\u001b[39m.\u001b[39mSeries(stats\u001b[39m.\u001b[39mboxcox(postive_humidity)[\u001b[39m0\u001b[39m],name \u001b[39m=\u001b[39m \u001b[39m'\u001b[39m\u001b[39mHumidity\u001b[39m\u001b[39m'\u001b[39m,index\u001b[39m=\u001b[39mpostive_humidity\u001b[39m.\u001b[39mindex)\n\u001b[1;32m     <a href='vscode-notebook-cell:/media/hanzalak/Hanzala/Projects/90daysof_ml/Day2%28scaling%20and%20Normalizatio%29.ipynb#W5sZmlsZQ%3D%3D?line=11'>12</a>\u001b[0m \u001b[39m# ax = sns.histplot(normalized_humidity)\u001b[39;00m\n\u001b[0;32m---> <a href='vscode-notebook-cell:/media/hanzalak/Hanzala/Projects/90daysof_ml/Day2%28scaling%20and%20Normalizatio%29.ipynb#W5sZmlsZQ%3D%3D?line=12'>13</a>\u001b[0m scaled_data \u001b[39m=\u001b[39m minmax_scaling(normalized_humidity,columns\u001b[39m=\u001b[39;49m[\u001b[39m'\u001b[39;49m\u001b[39mpostive_humidity\u001b[39;49m\u001b[39m'\u001b[39;49m])\n\u001b[1;32m     <a href='vscode-notebook-cell:/media/hanzalak/Hanzala/Projects/90daysof_ml/Day2%28scaling%20and%20Normalizatio%29.ipynb#W5sZmlsZQ%3D%3D?line=13'>14</a>\u001b[0m normalized_humidity\u001b[39m.\u001b[39mdescribe()\n\u001b[1;32m     <a href='vscode-notebook-cell:/media/hanzalak/Hanzala/Projects/90daysof_ml/Day2%28scaling%20and%20Normalizatio%29.ipynb#W5sZmlsZQ%3D%3D?line=14'>15</a>\u001b[0m \u001b[39m# postive_humidity\u001b[39;00m\n\u001b[1;32m     <a href='vscode-notebook-cell:/media/hanzalak/Hanzala/Projects/90daysof_ml/Day2%28scaling%20and%20Normalizatio%29.ipynb#W5sZmlsZQ%3D%3D?line=15'>16</a>\u001b[0m \u001b[39m# scaled_temp.shape\u001b[39;00m\n\u001b[1;32m     <a href='vscode-notebook-cell:/media/hanzalak/Hanzala/Projects/90daysof_ml/Day2%28scaling%20and%20Normalizatio%29.ipynb#W5sZmlsZQ%3D%3D?line=16'>17</a>\u001b[0m \u001b[39m# normalized_temp = stats.boxcox(scaled_temp)\u001b[39;00m\n\u001b[1;32m     <a href='vscode-notebook-cell:/media/hanzalak/Hanzala/Projects/90daysof_ml/Day2%28scaling%20and%20Normalizatio%29.ipynb#W5sZmlsZQ%3D%3D?line=17'>18</a>\u001b[0m \u001b[39m# scaled_temp\u001b[39;00m\n",
      "File \u001b[0;32m/media/hanzalak/Hanzala/Projects/90daysof_ml/env/lib/python3.11/site-packages/mlxtend/preprocessing/scaling.py:40\u001b[0m, in \u001b[0;36mminmax_scaling\u001b[0;34m(array, columns, min_val, max_val)\u001b[0m\n\u001b[1;32m     38\u001b[0m ary_new \u001b[39m=\u001b[39m array\u001b[39m.\u001b[39mastype(\u001b[39mfloat\u001b[39m)\n\u001b[1;32m     39\u001b[0m \u001b[39mif\u001b[39;00m \u001b[39mlen\u001b[39m(ary_new\u001b[39m.\u001b[39mshape) \u001b[39m==\u001b[39m \u001b[39m1\u001b[39m:\n\u001b[0;32m---> 40\u001b[0m     ary_new \u001b[39m=\u001b[39m ary_new[:, np\u001b[39m.\u001b[39;49mnewaxis]\n\u001b[1;32m     42\u001b[0m \u001b[39mif\u001b[39;00m \u001b[39misinstance\u001b[39m(ary_new, pd\u001b[39m.\u001b[39mDataFrame):\n\u001b[1;32m     43\u001b[0m     ary_newt \u001b[39m=\u001b[39m ary_new\u001b[39m.\u001b[39mloc\n",
      "File \u001b[0;32m/media/hanzalak/Hanzala/Projects/90daysof_ml/env/lib/python3.11/site-packages/pandas/core/series.py:1153\u001b[0m, in \u001b[0;36mSeries.__getitem__\u001b[0;34m(self, key)\u001b[0m\n\u001b[1;32m   1150\u001b[0m     key \u001b[39m=\u001b[39m np\u001b[39m.\u001b[39masarray(key, dtype\u001b[39m=\u001b[39m\u001b[39mbool\u001b[39m)\n\u001b[1;32m   1151\u001b[0m     \u001b[39mreturn\u001b[39;00m \u001b[39mself\u001b[39m\u001b[39m.\u001b[39m_get_rows_with_mask(key)\n\u001b[0;32m-> 1153\u001b[0m \u001b[39mreturn\u001b[39;00m \u001b[39mself\u001b[39;49m\u001b[39m.\u001b[39;49m_get_with(key)\n",
      "File \u001b[0;32m/media/hanzalak/Hanzala/Projects/90daysof_ml/env/lib/python3.11/site-packages/pandas/core/series.py:1163\u001b[0m, in \u001b[0;36mSeries._get_with\u001b[0;34m(self, key)\u001b[0m\n\u001b[1;32m   1158\u001b[0m     \u001b[39mraise\u001b[39;00m \u001b[39mTypeError\u001b[39;00m(\n\u001b[1;32m   1159\u001b[0m         \u001b[39m\"\u001b[39m\u001b[39mIndexing a Series with DataFrame is not \u001b[39m\u001b[39m\"\u001b[39m\n\u001b[1;32m   1160\u001b[0m         \u001b[39m\"\u001b[39m\u001b[39msupported, use the appropriate DataFrame column\u001b[39m\u001b[39m\"\u001b[39m\n\u001b[1;32m   1161\u001b[0m     )\n\u001b[1;32m   1162\u001b[0m \u001b[39melif\u001b[39;00m \u001b[39misinstance\u001b[39m(key, \u001b[39mtuple\u001b[39m):\n\u001b[0;32m-> 1163\u001b[0m     \u001b[39mreturn\u001b[39;00m \u001b[39mself\u001b[39;49m\u001b[39m.\u001b[39;49m_get_values_tuple(key)\n\u001b[1;32m   1165\u001b[0m \u001b[39melif\u001b[39;00m \u001b[39mnot\u001b[39;00m is_list_like(key):\n\u001b[1;32m   1166\u001b[0m     \u001b[39m# e.g. scalars that aren't recognized by lib.is_scalar, GH#32684\u001b[39;00m\n\u001b[1;32m   1167\u001b[0m     \u001b[39mreturn\u001b[39;00m \u001b[39mself\u001b[39m\u001b[39m.\u001b[39mloc[key]\n",
      "File \u001b[0;32m/media/hanzalak/Hanzala/Projects/90daysof_ml/env/lib/python3.11/site-packages/pandas/core/series.py:1203\u001b[0m, in \u001b[0;36mSeries._get_values_tuple\u001b[0;34m(self, key)\u001b[0m\n\u001b[1;32m   1198\u001b[0m \u001b[39mif\u001b[39;00m com\u001b[39m.\u001b[39many_none(\u001b[39m*\u001b[39mkey):\n\u001b[1;32m   1199\u001b[0m     \u001b[39m# mpl compat if we look up e.g. ser[:, np.newaxis];\u001b[39;00m\n\u001b[1;32m   1200\u001b[0m     \u001b[39m#  see tests.series.timeseries.test_mpl_compat_hack\u001b[39;00m\n\u001b[1;32m   1201\u001b[0m     \u001b[39m# the asarray is needed to avoid returning a 2D DatetimeArray\u001b[39;00m\n\u001b[1;32m   1202\u001b[0m     result \u001b[39m=\u001b[39m np\u001b[39m.\u001b[39masarray(\u001b[39mself\u001b[39m\u001b[39m.\u001b[39m_values[key])\n\u001b[0;32m-> 1203\u001b[0m     disallow_ndim_indexing(result)\n\u001b[1;32m   1204\u001b[0m     \u001b[39mreturn\u001b[39;00m result\n\u001b[1;32m   1206\u001b[0m \u001b[39mif\u001b[39;00m \u001b[39mnot\u001b[39;00m \u001b[39misinstance\u001b[39m(\u001b[39mself\u001b[39m\u001b[39m.\u001b[39mindex, MultiIndex):\n",
      "File \u001b[0;32m/media/hanzalak/Hanzala/Projects/90daysof_ml/env/lib/python3.11/site-packages/pandas/core/indexers/utils.py:341\u001b[0m, in \u001b[0;36mdisallow_ndim_indexing\u001b[0;34m(result)\u001b[0m\n\u001b[1;32m    333\u001b[0m \u001b[39m\u001b[39m\u001b[39m\"\"\"\u001b[39;00m\n\u001b[1;32m    334\u001b[0m \u001b[39mHelper function to disallow multi-dimensional indexing on 1D Series/Index.\u001b[39;00m\n\u001b[1;32m    335\u001b[0m \n\u001b[0;32m   (...)\u001b[0m\n\u001b[1;32m    338\u001b[0m \u001b[39min GH#30588.\u001b[39;00m\n\u001b[1;32m    339\u001b[0m \u001b[39m\"\"\"\u001b[39;00m\n\u001b[1;32m    340\u001b[0m \u001b[39mif\u001b[39;00m np\u001b[39m.\u001b[39mndim(result) \u001b[39m>\u001b[39m \u001b[39m1\u001b[39m:\n\u001b[0;32m--> 341\u001b[0m     \u001b[39mraise\u001b[39;00m \u001b[39mValueError\u001b[39;00m(\n\u001b[1;32m    342\u001b[0m         \u001b[39m\"\u001b[39m\u001b[39mMulti-dimensional indexing (e.g. `obj[:, None]`) is no longer \u001b[39m\u001b[39m\"\u001b[39m\n\u001b[1;32m    343\u001b[0m         \u001b[39m\"\u001b[39m\u001b[39msupported. Convert to a numpy array before indexing instead.\u001b[39m\u001b[39m\"\u001b[39m\n\u001b[1;32m    344\u001b[0m     )\n",
      "\u001b[0;31mValueError\u001b[0m: Multi-dimensional indexing (e.g. `obj[:, None]`) is no longer supported. Convert to a numpy array before indexing instead."
     ]
    }
   ],
   "source": [
    "# weather.describe()\n",
    "#plotting Apparetn temperature\n",
    "# ax = sns.histplot(weather['Humidity'],kde = True)\n",
    "# original_temp = pd.DataFrame(weather['Humidity'])\n",
    "# scaled_temp = minmax_scaling(scaled_temp,columns=['Humidity'])\n",
    "# ax = sns.histplot(scaled_temp,kde = True)\n",
    "\n",
    "index_p = weather.Humidity>0\n",
    "postive_humidity = weather.Humidity.loc[index_p]\n",
    "# ax = sns.histplot(postive_humidity)\n",
    "normalized_humidity = pd.Series(stats.boxcox(postive_humidity)[0],name = 'Humidity',index=postive_humidity.index)\n",
    "# ax = sns.histplot(normalized_humidity)\n",
    "scaled_data = minmax_scaling(normalized_humidity,columns=['postive_humidity'])\n",
    "normalized_humidity.describe()\n",
    "# postive_humidity\n",
    "# scaled_temp.shape\n",
    "# normalized_temp = stats.boxcox(scaled_temp)\n",
    "# scaled_temp\n",
    "\n",
    "\n",
    "\n"
   ]
  }
 ],
 "metadata": {
  "kernelspec": {
   "display_name": "env",
   "language": "python",
   "name": "python3"
  },
  "language_info": {
   "codemirror_mode": {
    "name": "ipython",
    "version": 3
   },
   "file_extension": ".py",
   "mimetype": "text/x-python",
   "name": "python",
   "nbconvert_exporter": "python",
   "pygments_lexer": "ipython3",
   "version": "3.11.2"
  }
 },
 "nbformat": 4,
 "nbformat_minor": 2
}
