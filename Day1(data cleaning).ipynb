{
 "cells": [
  {
   "cell_type": "code",
   "execution_count": 2,
   "metadata": {},
   "outputs": [
    {
     "name": "stderr",
     "output_type": "stream",
     "text": [
      "/tmp/ipykernel_42271/1969222674.py:4: DtypeWarning: Columns (22,32) have mixed types. Specify dtype option on import or set low_memory=False.\n",
      "  sf_permit = pd.read_csv('datasets/Building_Permits.csv')\n"
     ]
    }
   ],
   "source": [
    "import pandas as pd\n",
    "import numpy as np\n",
    "\n",
    "sf_permit = pd.read_csv('datasets/Building_Permits.csv')"
   ]
  },
  {
   "cell_type": "code",
   "execution_count": 1,
   "metadata": {},
   "outputs": [
    {
     "ename": "NameError",
     "evalue": "name 'sf_permit' is not defined",
     "output_type": "error",
     "traceback": [
      "\u001b[0;31m---------------------------------------------------------------------------\u001b[0m",
      "\u001b[0;31mNameError\u001b[0m                                 Traceback (most recent call last)",
      "\u001b[1;32m/media/hanzalak/Hanzala/Projects/90daysof_ml/Day1(data cleaning).ipynb Cell 2\u001b[0m line \u001b[0;36m2\n\u001b[1;32m      <a href='vscode-notebook-cell:/media/hanzalak/Hanzala/Projects/90daysof_ml/Day1%28data%20cleaning%29.ipynb#W1sZmlsZQ%3D%3D?line=0'>1</a>\u001b[0m \u001b[39m# 2) How many missing data points do we have?\u001b[39;00m\n\u001b[0;32m----> <a href='vscode-notebook-cell:/media/hanzalak/Hanzala/Projects/90daysof_ml/Day1%28data%20cleaning%29.ipynb#W1sZmlsZQ%3D%3D?line=1'>2</a>\u001b[0m total_missing \u001b[39m=\u001b[39m sf_permit\u001b[39m.\u001b[39misnull()\u001b[39m.\u001b[39msum()\u001b[39m.\u001b[39msum()\n\u001b[1;32m      <a href='vscode-notebook-cell:/media/hanzalak/Hanzala/Projects/90daysof_ml/Day1%28data%20cleaning%29.ipynb#W1sZmlsZQ%3D%3D?line=2'>3</a>\u001b[0m total_cells  \u001b[39m=\u001b[39m sf_permit\u001b[39m.\u001b[39mshape[\u001b[39m0\u001b[39m] \u001b[39m*\u001b[39m sf_permit\u001b[39m.\u001b[39mshape[\u001b[39m1\u001b[39m]\n\u001b[1;32m      <a href='vscode-notebook-cell:/media/hanzalak/Hanzala/Projects/90daysof_ml/Day1%28data%20cleaning%29.ipynb#W1sZmlsZQ%3D%3D?line=3'>4</a>\u001b[0m percentage_missing \u001b[39m=\u001b[39m (total_missing\u001b[39m/\u001b[39mtotal_cells)\u001b[39m*\u001b[39m\u001b[39m100\u001b[39m\n",
      "\u001b[0;31mNameError\u001b[0m: name 'sf_permit' is not defined"
     ]
    }
   ],
   "source": [
    "# 2) How many missing data points do we have?\n",
    "total_missing = sf_permit.isnull().sum().sum()\n",
    "total_cells  = sf_permit.shape[0] * sf_permit.shape[1]\n",
    "percentage_missing = (total_missing/total_cells)*100\n",
    "percentage_missing"
   ]
  },
  {
   "cell_type": "code",
   "execution_count": null,
   "metadata": {},
   "outputs": [],
   "source": []
  }
 ],
 "metadata": {
  "kernelspec": {
   "display_name": "env",
   "language": "python",
   "name": "python3"
  },
  "language_info": {
   "codemirror_mode": {
    "name": "ipython",
    "version": 3
   },
   "file_extension": ".py",
   "mimetype": "text/x-python",
   "name": "python",
   "nbconvert_exporter": "python",
   "pygments_lexer": "ipython3",
   "version": "3.11.2"
  }
 },
 "nbformat": 4,
 "nbformat_minor": 2
}
